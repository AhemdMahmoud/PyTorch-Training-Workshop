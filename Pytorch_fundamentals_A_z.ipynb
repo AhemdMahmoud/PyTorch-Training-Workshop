{
  "nbformat": 4,
  "nbformat_minor": 0,
  "metadata": {
    "colab": {
      "provenance": [],
      "gpuType": "T4"
    },
    "kernelspec": {
      "name": "python3",
      "display_name": "Python 3"
    },
    "language_info": {
      "name": "python"
    },
    "accelerator": "GPU"
  },
  "cells": [
    {
      "cell_type": "code",
      "execution_count": 1,
      "metadata": {
        "id": "lJsCokRBS5-y"
      },
      "outputs": [],
      "source": [
        "import torch\n",
        "\n",
        "import torch.nn.functional as F\n",
        "\n"
      ]
    },
    {
      "cell_type": "code",
      "source": [
        "torch.__version__"
      ],
      "metadata": {
        "colab": {
          "base_uri": "https://localhost:8080/",
          "height": 36
        },
        "id": "pyLy-aLutYuX",
        "outputId": "2cef5037-92ed-4d6b-fccb-17e7162fe2c2"
      },
      "execution_count": 2,
      "outputs": [
        {
          "output_type": "execute_result",
          "data": {
            "text/plain": [
              "'2.5.1+cu124'"
            ],
            "application/vnd.google.colaboratory.intrinsic+json": {
              "type": "string"
            }
          },
          "metadata": {},
          "execution_count": 2
        }
      ]
    },
    {
      "cell_type": "code",
      "source": [
        "#scaler\n",
        "sclaer = torch.tensor(6)\n",
        "sclaer.ndim"
      ],
      "metadata": {
        "colab": {
          "base_uri": "https://localhost:8080/"
        },
        "id": "y45k9brzthal",
        "outputId": "9faf3f45-97dc-4bac-8ec6-e88d03c56fbe"
      },
      "execution_count": 3,
      "outputs": [
        {
          "output_type": "execute_result",
          "data": {
            "text/plain": [
              "0"
            ]
          },
          "metadata": {},
          "execution_count": 3
        }
      ]
    },
    {
      "cell_type": "code",
      "source": [
        "sclaer.item()"
      ],
      "metadata": {
        "colab": {
          "base_uri": "https://localhost:8080/"
        },
        "id": "IlrfIXSsuBYW",
        "outputId": "03e75f80-eea7-4c7b-8ee7-dff03be023b2"
      },
      "execution_count": 4,
      "outputs": [
        {
          "output_type": "execute_result",
          "data": {
            "text/plain": [
              "6"
            ]
          },
          "metadata": {},
          "execution_count": 4
        }
      ]
    },
    {
      "cell_type": "code",
      "source": [
        "sclaer"
      ],
      "metadata": {
        "colab": {
          "base_uri": "https://localhost:8080/"
        },
        "id": "T3rLP5iWuGBM",
        "outputId": "aa56eb82-fcac-49bb-c8fd-630ede60d520"
      },
      "execution_count": 5,
      "outputs": [
        {
          "output_type": "execute_result",
          "data": {
            "text/plain": [
              "tensor(6)"
            ]
          },
          "metadata": {},
          "execution_count": 5
        }
      ]
    },
    {
      "cell_type": "code",
      "source": [
        "# create vector\n",
        "\n",
        "vector =  torch.tensor([7,7])\n",
        "\n",
        "vector , vector.ndim"
      ],
      "metadata": {
        "colab": {
          "base_uri": "https://localhost:8080/"
        },
        "id": "EmFd-YmMuZjZ",
        "outputId": "a7b42f68-924b-4e07-cb7b-8292823c6476"
      },
      "execution_count": 6,
      "outputs": [
        {
          "output_type": "execute_result",
          "data": {
            "text/plain": [
              "(tensor([7, 7]), 1)"
            ]
          },
          "metadata": {},
          "execution_count": 6
        }
      ]
    },
    {
      "cell_type": "code",
      "source": [
        "vector.shape"
      ],
      "metadata": {
        "colab": {
          "base_uri": "https://localhost:8080/"
        },
        "id": "fPwJbXAOulCH",
        "outputId": "22ad7c65-5f6b-4886-c296-b10b589bcf5d"
      },
      "execution_count": 7,
      "outputs": [
        {
          "output_type": "execute_result",
          "data": {
            "text/plain": [
              "torch.Size([2])"
            ]
          },
          "metadata": {},
          "execution_count": 7
        }
      ]
    },
    {
      "cell_type": "code",
      "source": [
        "matrics = torch.tensor([[4,3], [4,5]])\n",
        "\n",
        "matrics, matrics.ndim ,matrics.shape"
      ],
      "metadata": {
        "colab": {
          "base_uri": "https://localhost:8080/"
        },
        "id": "qgIj3dHlu6Y6",
        "outputId": "5d6800f7-588d-4d82-a1e8-12a559436f71"
      },
      "execution_count": 8,
      "outputs": [
        {
          "output_type": "execute_result",
          "data": {
            "text/plain": [
              "(tensor([[4, 3],\n",
              "         [4, 5]]),\n",
              " 2,\n",
              " torch.Size([2, 2]))"
            ]
          },
          "metadata": {},
          "execution_count": 8
        }
      ]
    },
    {
      "cell_type": "code",
      "source": [
        "#creating a random tensor\n",
        "\n",
        "random_tensor = torch.rand(size=(3,4)) # size=(3,4) , by defualt float32\n",
        "random_tensor ,random_tensor.dtype"
      ],
      "metadata": {
        "colab": {
          "base_uri": "https://localhost:8080/"
        },
        "id": "CqZ8y-X1vH_9",
        "outputId": "716ae57d-3197-4cb9-c1e8-07c691634cf8"
      },
      "execution_count": 9,
      "outputs": [
        {
          "output_type": "execute_result",
          "data": {
            "text/plain": [
              "(tensor([[0.0192, 0.4267, 0.9605, 0.3362],\n",
              "         [0.3406, 0.0419, 0.8233, 0.2728],\n",
              "         [0.4926, 0.3658, 0.5701, 0.1347]]),\n",
              " torch.float32)"
            ]
          },
          "metadata": {},
          "execution_count": 9
        }
      ]
    },
    {
      "cell_type": "code",
      "source": [
        "device = \"CUDA\" if torch.cuda.is_available() else \"CPU\"\n",
        "device"
      ],
      "metadata": {
        "colab": {
          "base_uri": "https://localhost:8080/",
          "height": 36
        },
        "id": "LhnPBX5wvel7",
        "outputId": "73f67ebf-116a-43a7-9fd7-cb770c235770"
      },
      "execution_count": 10,
      "outputs": [
        {
          "output_type": "execute_result",
          "data": {
            "text/plain": [
              "'CUDA'"
            ],
            "application/vnd.google.colaboratory.intrinsic+json": {
              "type": "string"
            }
          },
          "metadata": {},
          "execution_count": 10
        }
      ]
    },
    {
      "cell_type": "code",
      "source": [
        "x_tensor = torch.rand(size=(224,224,3))\n",
        "x_tensor , x_tensor.shape , x_tensor.ndim"
      ],
      "metadata": {
        "colab": {
          "base_uri": "https://localhost:8080/"
        },
        "id": "gjo6NXVDwFOe",
        "outputId": "e1db1c92-862d-4e81-abbf-169085fe1f84"
      },
      "execution_count": 11,
      "outputs": [
        {
          "output_type": "execute_result",
          "data": {
            "text/plain": [
              "(tensor([[[0.1301, 0.6594, 0.1212],\n",
              "          [0.4639, 0.8167, 0.6094],\n",
              "          [0.5781, 0.0917, 0.5505],\n",
              "          ...,\n",
              "          [0.2767, 0.3083, 0.0611],\n",
              "          [0.3722, 0.5297, 0.2191],\n",
              "          [0.7714, 0.1954, 0.7544]],\n",
              " \n",
              "         [[0.6890, 0.8057, 0.0515],\n",
              "          [0.5904, 0.8633, 0.1954],\n",
              "          [0.9843, 0.5136, 0.4258],\n",
              "          ...,\n",
              "          [0.3350, 0.5173, 0.4947],\n",
              "          [0.1037, 0.7995, 0.8966],\n",
              "          [0.8542, 0.9295, 0.9277]],\n",
              " \n",
              "         [[0.0798, 0.3878, 0.0116],\n",
              "          [0.5915, 0.9475, 0.6941],\n",
              "          [0.9026, 0.9946, 0.9762],\n",
              "          ...,\n",
              "          [0.4820, 0.9722, 0.4943],\n",
              "          [0.8332, 0.2727, 0.3950],\n",
              "          [0.7681, 0.6085, 0.0339]],\n",
              " \n",
              "         ...,\n",
              " \n",
              "         [[0.5499, 0.2533, 0.5085],\n",
              "          [0.7612, 0.6409, 0.5757],\n",
              "          [0.8376, 0.9404, 0.4080],\n",
              "          ...,\n",
              "          [0.1545, 0.0460, 0.9858],\n",
              "          [0.4087, 0.2298, 0.2864],\n",
              "          [0.4364, 0.5461, 0.7193]],\n",
              " \n",
              "         [[0.6248, 0.5918, 0.8115],\n",
              "          [0.2247, 0.5584, 0.6690],\n",
              "          [0.2233, 0.9247, 0.0709],\n",
              "          ...,\n",
              "          [0.2010, 0.0962, 0.0586],\n",
              "          [0.6282, 0.7966, 0.1758],\n",
              "          [0.2153, 0.2932, 0.5339]],\n",
              " \n",
              "         [[0.6598, 0.0705, 0.7780],\n",
              "          [0.2377, 0.0508, 0.6079],\n",
              "          [0.2497, 0.7015, 0.1797],\n",
              "          ...,\n",
              "          [0.9447, 0.0255, 0.9933],\n",
              "          [0.5792, 0.5235, 0.0025],\n",
              "          [0.8775, 0.4376, 0.9196]]]),\n",
              " torch.Size([224, 224, 3]),\n",
              " 3)"
            ]
          },
          "metadata": {},
          "execution_count": 11
        }
      ]
    },
    {
      "cell_type": "code",
      "source": [
        "x_tensor.dtype"
      ],
      "metadata": {
        "colab": {
          "base_uri": "https://localhost:8080/"
        },
        "id": "ovtIFP40wFAV",
        "outputId": "63a0900e-f2df-4b3c-d3bd-74ef01e8b06e"
      },
      "execution_count": 12,
      "outputs": [
        {
          "output_type": "execute_result",
          "data": {
            "text/plain": [
              "torch.float32"
            ]
          },
          "metadata": {},
          "execution_count": 12
        }
      ]
    },
    {
      "cell_type": "code",
      "source": [
        "#arange\n",
        "x_tensor = torch.arange(start=0,end= 5, step=2)"
      ],
      "metadata": {
        "id": "0x-may-7xidK"
      },
      "execution_count": 13,
      "outputs": []
    },
    {
      "cell_type": "code",
      "source": [
        "x_tensor , x_tensor.shape , x_tensor.ndim"
      ],
      "metadata": {
        "colab": {
          "base_uri": "https://localhost:8080/"
        },
        "id": "yIlR_L_uxyWs",
        "outputId": "c5f9528d-f70e-4d33-c2a1-7f445411ff20"
      },
      "execution_count": 14,
      "outputs": [
        {
          "output_type": "execute_result",
          "data": {
            "text/plain": [
              "(tensor([0, 2, 4]), torch.Size([3]), 1)"
            ]
          },
          "metadata": {},
          "execution_count": 14
        }
      ]
    },
    {
      "cell_type": "code",
      "source": [
        "ones_tensor = torch.ones(size=(3,4))\n",
        "ones_tensor , ones_tensor.dtype , ones_tensor.shape , ones_tensor.ndim"
      ],
      "metadata": {
        "colab": {
          "base_uri": "https://localhost:8080/"
        },
        "id": "6ZVERNpAwE3M",
        "outputId": "ef23eff1-3b80-4c5f-8f79-ccc6e732dea4"
      },
      "execution_count": 15,
      "outputs": [
        {
          "output_type": "execute_result",
          "data": {
            "text/plain": [
              "(tensor([[1., 1., 1., 1.],\n",
              "         [1., 1., 1., 1.],\n",
              "         [1., 1., 1., 1.]]),\n",
              " torch.float32,\n",
              " torch.Size([3, 4]),\n",
              " 2)"
            ]
          },
          "metadata": {},
          "execution_count": 15
        }
      ]
    },
    {
      "cell_type": "code",
      "source": [
        "zero_tensor = torch.zeros(size=(3,4))\n",
        "zero_tensor , zero_tensor.dtype , zero_tensor.shape , zero_tensor.ndim"
      ],
      "metadata": {
        "colab": {
          "base_uri": "https://localhost:8080/"
        },
        "id": "W_1twQNZwEs2",
        "outputId": "057949d0-5794-4572-9b9c-5394f8aaf288"
      },
      "execution_count": 16,
      "outputs": [
        {
          "output_type": "execute_result",
          "data": {
            "text/plain": [
              "(tensor([[0., 0., 0., 0.],\n",
              "         [0., 0., 0., 0.],\n",
              "         [0., 0., 0., 0.]]),\n",
              " torch.float32,\n",
              " torch.Size([3, 4]),\n",
              " 2)"
            ]
          },
          "metadata": {},
          "execution_count": 16
        }
      ]
    },
    {
      "cell_type": "code",
      "source": [
        "zero_tensor.device"
      ],
      "metadata": {
        "colab": {
          "base_uri": "https://localhost:8080/"
        },
        "id": "kaVXHzBtwEkD",
        "outputId": "f43440d9-6f96-4aa0-a445-692ec41282d0"
      },
      "execution_count": 17,
      "outputs": [
        {
          "output_type": "execute_result",
          "data": {
            "text/plain": [
              "device(type='cpu')"
            ]
          },
          "metadata": {},
          "execution_count": 17
        }
      ]
    },
    {
      "cell_type": "code",
      "source": [
        "r_tensor = torch.tensor([2,3,4],\n",
        "                        dtype=torch.float64,\n",
        "                        device= \"cpu\")"
      ],
      "metadata": {
        "id": "cD84TKVUwEgg"
      },
      "execution_count": 18,
      "outputs": []
    },
    {
      "cell_type": "code",
      "source": [
        "r_tensor"
      ],
      "metadata": {
        "colab": {
          "base_uri": "https://localhost:8080/"
        },
        "id": "3TsgwQYAwDlC",
        "outputId": "ab038515-1dd5-49ad-b69c-a54f481faa99"
      },
      "execution_count": 19,
      "outputs": [
        {
          "output_type": "execute_result",
          "data": {
            "text/plain": [
              "tensor([2., 3., 4.], dtype=torch.float64)"
            ]
          },
          "metadata": {},
          "execution_count": 19
        }
      ]
    },
    {
      "cell_type": "code",
      "source": [
        "     # tensor operations\n",
        "# multiply\n",
        "# addition\n",
        "# subtraction\n",
        "# division"
      ],
      "metadata": {
        "id": "EQzayFxCwDhv"
      },
      "execution_count": 20,
      "outputs": []
    },
    {
      "cell_type": "code",
      "source": [
        "x=torch.tensor([1,2,3])\n",
        "y=torch.tensor([4,5,6])\n",
        "\n",
        "z = x + y"
      ],
      "metadata": {
        "id": "tpPXgHKiwDbc"
      },
      "execution_count": 21,
      "outputs": []
    },
    {
      "cell_type": "code",
      "source": [
        "z , z.shape , z.ndim , z.dtype"
      ],
      "metadata": {
        "colab": {
          "base_uri": "https://localhost:8080/"
        },
        "id": "DQDEH9r6wDXz",
        "outputId": "27f696b3-e450-4a74-e481-b757b841682a"
      },
      "execution_count": 22,
      "outputs": [
        {
          "output_type": "execute_result",
          "data": {
            "text/plain": [
              "(tensor([5, 7, 9]), torch.Size([3]), 1, torch.int64)"
            ]
          },
          "metadata": {},
          "execution_count": 22
        }
      ]
    },
    {
      "cell_type": "code",
      "source": [
        "z * 3"
      ],
      "metadata": {
        "colab": {
          "base_uri": "https://localhost:8080/"
        },
        "id": "7wHYiqTIwDUx",
        "outputId": "ca84dda2-9e12-4be4-cc1c-5874dadca56d"
      },
      "execution_count": 23,
      "outputs": [
        {
          "output_type": "execute_result",
          "data": {
            "text/plain": [
              "tensor([15, 21, 27])"
            ]
          },
          "metadata": {},
          "execution_count": 23
        }
      ]
    },
    {
      "cell_type": "code",
      "source": [
        "# multipule\n",
        "\n",
        "f = torch.multiply(x,10)"
      ],
      "metadata": {
        "id": "cDH3DO9NwDRU"
      },
      "execution_count": 24,
      "outputs": []
    },
    {
      "cell_type": "code",
      "source": [
        "f"
      ],
      "metadata": {
        "colab": {
          "base_uri": "https://localhost:8080/"
        },
        "id": "hTdeU4VjwDM7",
        "outputId": "08f33dcf-6a45-40a0-af20-c5d17f9f25d8"
      },
      "execution_count": 25,
      "outputs": [
        {
          "output_type": "execute_result",
          "data": {
            "text/plain": [
              "tensor([10, 20, 30])"
            ]
          },
          "metadata": {},
          "execution_count": 25
        }
      ]
    },
    {
      "cell_type": "code",
      "source": [
        "s = torch.matmul(x,y)"
      ],
      "metadata": {
        "id": "57P5-_i2wDJU"
      },
      "execution_count": 26,
      "outputs": []
    },
    {
      "cell_type": "code",
      "source": [
        "s"
      ],
      "metadata": {
        "colab": {
          "base_uri": "https://localhost:8080/"
        },
        "id": "4DyouY2xwDGM",
        "outputId": "5bf013bd-0bd3-4e56-c423-d167acb6e102"
      },
      "execution_count": 27,
      "outputs": [
        {
          "output_type": "execute_result",
          "data": {
            "text/plain": [
              "tensor(32)"
            ]
          },
          "metadata": {},
          "execution_count": 27
        }
      ]
    },
    {
      "cell_type": "code",
      "source": [
        "s.shape , x.ndim"
      ],
      "metadata": {
        "colab": {
          "base_uri": "https://localhost:8080/"
        },
        "id": "ZrvvS2oMwDCU",
        "outputId": "912781e3-a359-497c-eb0b-dafa501af465"
      },
      "execution_count": 28,
      "outputs": [
        {
          "output_type": "execute_result",
          "data": {
            "text/plain": [
              "(torch.Size([]), 1)"
            ]
          },
          "metadata": {},
          "execution_count": 28
        }
      ]
    },
    {
      "cell_type": "code",
      "source": [
        "rndome_state = torch.manual_seed(42)\n",
        "seed = torch.rand(3,4)\n",
        "seed"
      ],
      "metadata": {
        "colab": {
          "base_uri": "https://localhost:8080/"
        },
        "id": "egWCy7dOwK24",
        "outputId": "cc3ba78c-89d4-448a-f76c-a3f0a1710d38"
      },
      "execution_count": 29,
      "outputs": [
        {
          "output_type": "execute_result",
          "data": {
            "text/plain": [
              "tensor([[0.8823, 0.9150, 0.3829, 0.9593],\n",
              "        [0.3904, 0.6009, 0.2566, 0.7936],\n",
              "        [0.9408, 0.1332, 0.9346, 0.5936]])"
            ]
          },
          "metadata": {},
          "execution_count": 29
        }
      ]
    },
    {
      "cell_type": "code",
      "source": [
        "from torch import nn"
      ],
      "metadata": {
        "id": "HAy-FqZnwK0W"
      },
      "execution_count": 30,
      "outputs": []
    },
    {
      "cell_type": "code",
      "source": [
        "Linear_layer = nn.Linear(in_features=7, out_features=6)\n"
      ],
      "metadata": {
        "id": "KMH0kCMLwKw_"
      },
      "execution_count": 31,
      "outputs": []
    },
    {
      "cell_type": "code",
      "source": [
        "#state_dict()\n",
        "Linear_layer , Linear_layer.weight , Linear_layer.bias , Linear_layer.out_features , Linear_layer.in_features , Linear_layer.state_dict()"
      ],
      "metadata": {
        "colab": {
          "base_uri": "https://localhost:8080/"
        },
        "id": "95iuNPJmwKti",
        "outputId": "4d3255bc-f379-46b3-9d13-703168eef848"
      },
      "execution_count": 32,
      "outputs": [
        {
          "output_type": "execute_result",
          "data": {
            "text/plain": [
              "(Linear(in_features=7, out_features=6, bias=True),\n",
              " Parameter containing:\n",
              " tensor([[ 0.2792,  0.0512,  0.1822, -0.0534,  0.2914,  0.0559, -0.1764],\n",
              "         [ 0.0963, -0.1741, -0.0443, -0.1535,  0.2507, -0.2984, -0.1742],\n",
              "         [-0.1067, -0.2273,  0.0357, -0.3733,  0.3413, -0.3211,  0.2918],\n",
              "         [ 0.0629, -0.1227,  0.2336,  0.0589,  0.3054,  0.0413, -0.1192],\n",
              "         [ 0.1016, -0.1025,  0.1591,  0.3375,  0.2185, -0.1652,  0.2182],\n",
              "         [ 0.0676,  0.1919, -0.2304, -0.3742, -0.1460, -0.2899,  0.3101]],\n",
              "        requires_grad=True),\n",
              " Parameter containing:\n",
              " tensor([ 0.1089,  0.1566,  0.1195, -0.0066,  0.2958, -0.2685],\n",
              "        requires_grad=True),\n",
              " 6,\n",
              " 7,\n",
              " OrderedDict([('weight',\n",
              "               tensor([[ 0.2792,  0.0512,  0.1822, -0.0534,  0.2914,  0.0559, -0.1764],\n",
              "                       [ 0.0963, -0.1741, -0.0443, -0.1535,  0.2507, -0.2984, -0.1742],\n",
              "                       [-0.1067, -0.2273,  0.0357, -0.3733,  0.3413, -0.3211,  0.2918],\n",
              "                       [ 0.0629, -0.1227,  0.2336,  0.0589,  0.3054,  0.0413, -0.1192],\n",
              "                       [ 0.1016, -0.1025,  0.1591,  0.3375,  0.2185, -0.1652,  0.2182],\n",
              "                       [ 0.0676,  0.1919, -0.2304, -0.3742, -0.1460, -0.2899,  0.3101]])),\n",
              "              ('bias',\n",
              "               tensor([ 0.1089,  0.1566,  0.1195, -0.0066,  0.2958, -0.2685]))]))"
            ]
          },
          "metadata": {},
          "execution_count": 32
        }
      ]
    },
    {
      "cell_type": "code",
      "source": [
        "tensor_L = torch.rand(4,7)"
      ],
      "metadata": {
        "id": "XSTe7KfYwKqT"
      },
      "execution_count": 33,
      "outputs": []
    },
    {
      "cell_type": "code",
      "source": [
        "k = Linear_layer(tensor_L)"
      ],
      "metadata": {
        "id": "RHupTxYQwKnW"
      },
      "execution_count": 34,
      "outputs": []
    },
    {
      "cell_type": "code",
      "source": [
        "k , k.shape"
      ],
      "metadata": {
        "colab": {
          "base_uri": "https://localhost:8080/"
        },
        "id": "jCccKuLwwKkO",
        "outputId": "648b194e-9250-4880-be5b-365c4cd20a1e"
      },
      "execution_count": 35,
      "outputs": [
        {
          "output_type": "execute_result",
          "data": {
            "text/plain": [
              "(tensor([[ 0.4182, -0.0129,  0.2905,  0.2863,  0.8251, -0.4020],\n",
              "         [ 0.3958, -0.1545, -0.3574,  0.3182,  0.6510, -0.9726],\n",
              "         [ 0.3142, -0.1221, -0.1536,  0.2763,  0.5980, -0.8375],\n",
              "         [ 0.3392, -0.2563, -0.4503,  0.1621,  0.5298, -0.7291]],\n",
              "        grad_fn=<AddmmBackward0>),\n",
              " torch.Size([4, 6]))"
            ]
          },
          "metadata": {},
          "execution_count": 35
        }
      ]
    },
    {
      "cell_type": "code",
      "source": [
        "v = torch.arange(0,16,2)\n",
        "v"
      ],
      "metadata": {
        "colab": {
          "base_uri": "https://localhost:8080/"
        },
        "id": "7tRxXi701AyX",
        "outputId": "337ee332-6f6d-44b4-dfd1-03b62eab40d4"
      },
      "execution_count": 36,
      "outputs": [
        {
          "output_type": "execute_result",
          "data": {
            "text/plain": [
              "tensor([ 0,  2,  4,  6,  8, 10, 12, 14])"
            ]
          },
          "metadata": {},
          "execution_count": 36
        }
      ]
    },
    {
      "cell_type": "code",
      "source": [
        "v.min()"
      ],
      "metadata": {
        "colab": {
          "base_uri": "https://localhost:8080/"
        },
        "id": "bnXJc_t71AqC",
        "outputId": "e14d229c-9c69-4658-ae8f-8090f3f1a110"
      },
      "execution_count": 37,
      "outputs": [
        {
          "output_type": "execute_result",
          "data": {
            "text/plain": [
              "tensor(0)"
            ]
          },
          "metadata": {},
          "execution_count": 37
        }
      ]
    },
    {
      "cell_type": "code",
      "source": [
        "v.max()"
      ],
      "metadata": {
        "colab": {
          "base_uri": "https://localhost:8080/"
        },
        "id": "AHDK2qeE1Amr",
        "outputId": "76913af3-09cc-4b76-a499-65a2f943ffcc"
      },
      "execution_count": 38,
      "outputs": [
        {
          "output_type": "execute_result",
          "data": {
            "text/plain": [
              "tensor(14)"
            ]
          },
          "metadata": {},
          "execution_count": 38
        }
      ]
    },
    {
      "cell_type": "code",
      "source": [
        "v.argmax()"
      ],
      "metadata": {
        "colab": {
          "base_uri": "https://localhost:8080/"
        },
        "id": "8F6H-yPT1AjY",
        "outputId": "11b96af4-b29f-4c2e-c480-63b6916066fd"
      },
      "execution_count": 39,
      "outputs": [
        {
          "output_type": "execute_result",
          "data": {
            "text/plain": [
              "tensor(7)"
            ]
          },
          "metadata": {},
          "execution_count": 39
        }
      ]
    },
    {
      "cell_type": "code",
      "source": [
        "v.argmin()"
      ],
      "metadata": {
        "colab": {
          "base_uri": "https://localhost:8080/"
        },
        "id": "w7_YRZOO4ebJ",
        "outputId": "6c7aef40-0f60-4e5e-9020-cad3c159b301"
      },
      "execution_count": 40,
      "outputs": [
        {
          "output_type": "execute_result",
          "data": {
            "text/plain": [
              "tensor(0)"
            ]
          },
          "metadata": {},
          "execution_count": 40
        }
      ]
    },
    {
      "cell_type": "code",
      "source": [
        "v.shape"
      ],
      "metadata": {
        "colab": {
          "base_uri": "https://localhost:8080/"
        },
        "id": "0r4vUbmd6IL8",
        "outputId": "9a684b45-fa5f-4bf4-e366-297d9c1241fa"
      },
      "execution_count": 41,
      "outputs": [
        {
          "output_type": "execute_result",
          "data": {
            "text/plain": [
              "torch.Size([8])"
            ]
          },
          "metadata": {},
          "execution_count": 41
        }
      ]
    },
    {
      "cell_type": "code",
      "source": [],
      "metadata": {
        "id": "G_drvqWi6g7_"
      },
      "execution_count": 41,
      "outputs": []
    },
    {
      "cell_type": "code",
      "source": [
        "# transpose , reashape()\n",
        "v_Reshape = v.reshape(-1,1)\n",
        "v_tensor_transpose = torch.transpose(v_Reshape,dim0=1,dim1=0)\n"
      ],
      "metadata": {
        "id": "OLtHv5-P4iR4"
      },
      "execution_count": 42,
      "outputs": []
    },
    {
      "cell_type": "code",
      "source": [
        "v_Reshape.shape"
      ],
      "metadata": {
        "colab": {
          "base_uri": "https://localhost:8080/"
        },
        "id": "n6vglxpR6w_y",
        "outputId": "a03cb50c-df4c-4ee1-be56-cd4a900bb546"
      },
      "execution_count": 43,
      "outputs": [
        {
          "output_type": "execute_result",
          "data": {
            "text/plain": [
              "torch.Size([8, 1])"
            ]
          },
          "metadata": {},
          "execution_count": 43
        }
      ]
    },
    {
      "cell_type": "code",
      "source": [
        "v_tensor_transpose.shape"
      ],
      "metadata": {
        "colab": {
          "base_uri": "https://localhost:8080/"
        },
        "id": "oLsRCYk16SDg",
        "outputId": "7c0a79ef-0a0c-43e3-9067-b14ff3a93594"
      },
      "execution_count": 44,
      "outputs": [
        {
          "output_type": "execute_result",
          "data": {
            "text/plain": [
              "torch.Size([1, 8])"
            ]
          },
          "metadata": {},
          "execution_count": 44
        }
      ]
    },
    {
      "cell_type": "code",
      "source": [
        "v_tensor_transpose_t = v_tensor_transpose.t()"
      ],
      "metadata": {
        "id": "iLS4zq686o4j"
      },
      "execution_count": 45,
      "outputs": []
    },
    {
      "cell_type": "code",
      "source": [
        "v_tensor_transpose_t.shape"
      ],
      "metadata": {
        "colab": {
          "base_uri": "https://localhost:8080/"
        },
        "id": "G3Vnxc4M6tlx",
        "outputId": "0a57d1af-283e-4642-b99f-7f5cad639bde"
      },
      "execution_count": 46,
      "outputs": [
        {
          "output_type": "execute_result",
          "data": {
            "text/plain": [
              "torch.Size([8, 1])"
            ]
          },
          "metadata": {},
          "execution_count": 46
        }
      ]
    },
    {
      "cell_type": "code",
      "source": [
        "v.dtype"
      ],
      "metadata": {
        "colab": {
          "base_uri": "https://localhost:8080/"
        },
        "id": "xPJ6ISs78YRj",
        "outputId": "84637b89-0ee8-4b26-acc1-7ed62388f3a2"
      },
      "execution_count": 47,
      "outputs": [
        {
          "output_type": "execute_result",
          "data": {
            "text/plain": [
              "torch.int64"
            ]
          },
          "metadata": {},
          "execution_count": 47
        }
      ]
    },
    {
      "cell_type": "code",
      "source": [
        "v=v.type(torch.float32)"
      ],
      "metadata": {
        "id": "EdrXK7aL8G01"
      },
      "execution_count": 48,
      "outputs": []
    },
    {
      "cell_type": "code",
      "source": [
        "v.dtype"
      ],
      "metadata": {
        "colab": {
          "base_uri": "https://localhost:8080/"
        },
        "id": "nJvbxoLE8bex",
        "outputId": "3406f366-55c5-4a84-f686-d54a3200ab46"
      },
      "execution_count": 49,
      "outputs": [
        {
          "output_type": "execute_result",
          "data": {
            "text/plain": [
              "torch.float32"
            ]
          },
          "metadata": {},
          "execution_count": 49
        }
      ]
    },
    {
      "cell_type": "code",
      "source": [
        "#mean\n",
        "mean_v =v.mean()"
      ],
      "metadata": {
        "id": "gcxpJ4Tt7Q9j"
      },
      "execution_count": 50,
      "outputs": []
    },
    {
      "cell_type": "code",
      "source": [
        "mean_v"
      ],
      "metadata": {
        "colab": {
          "base_uri": "https://localhost:8080/"
        },
        "id": "a7q38Fxz73xd",
        "outputId": "144dd629-60cb-497b-b46d-e00772c08a76"
      },
      "execution_count": 51,
      "outputs": [
        {
          "output_type": "execute_result",
          "data": {
            "text/plain": [
              "tensor(7.)"
            ]
          },
          "metadata": {},
          "execution_count": 51
        }
      ]
    },
    {
      "cell_type": "code",
      "source": [
        "b = torch.rand(size=(3,4))"
      ],
      "metadata": {
        "id": "GyxmWwfM8Uj7"
      },
      "execution_count": 52,
      "outputs": []
    },
    {
      "cell_type": "code",
      "source": [
        "b.shape"
      ],
      "metadata": {
        "colab": {
          "base_uri": "https://localhost:8080/"
        },
        "id": "5h9GtoCX8vPL",
        "outputId": "49e1b752-b789-415b-a969-8825f7e45086"
      },
      "execution_count": 53,
      "outputs": [
        {
          "output_type": "execute_result",
          "data": {
            "text/plain": [
              "torch.Size([3, 4])"
            ]
          },
          "metadata": {},
          "execution_count": 53
        }
      ]
    },
    {
      "cell_type": "code",
      "source": [
        "b=b.reshape(4,3)\n",
        "b.shape"
      ],
      "metadata": {
        "colab": {
          "base_uri": "https://localhost:8080/"
        },
        "id": "CX2amdLf8vL_",
        "outputId": "ddb51c9d-72f9-4b51-f3e4-e6034ac7f5d4"
      },
      "execution_count": 54,
      "outputs": [
        {
          "output_type": "execute_result",
          "data": {
            "text/plain": [
              "torch.Size([4, 3])"
            ]
          },
          "metadata": {},
          "execution_count": 54
        }
      ]
    },
    {
      "cell_type": "code",
      "source": [
        "# satck\n",
        "\n",
        "x_stack = torch.stack([x,x,x,x])"
      ],
      "metadata": {
        "id": "iC4dTHEe8vJY"
      },
      "execution_count": 55,
      "outputs": []
    },
    {
      "cell_type": "code",
      "source": [
        "x_stack"
      ],
      "metadata": {
        "colab": {
          "base_uri": "https://localhost:8080/"
        },
        "id": "9POJR7pc8vGk",
        "outputId": "4f0231ab-81d0-4130-aeac-fd6c80f0e71b"
      },
      "execution_count": 56,
      "outputs": [
        {
          "output_type": "execute_result",
          "data": {
            "text/plain": [
              "tensor([[1, 2, 3],\n",
              "        [1, 2, 3],\n",
              "        [1, 2, 3],\n",
              "        [1, 2, 3]])"
            ]
          },
          "metadata": {},
          "execution_count": 56
        }
      ]
    },
    {
      "cell_type": "code",
      "source": [
        "v_tensor_transpose_t.shape"
      ],
      "metadata": {
        "colab": {
          "base_uri": "https://localhost:8080/"
        },
        "id": "6l8vuRu28vDj",
        "outputId": "1995c41a-e4dc-433c-ddc5-c7c795213354"
      },
      "execution_count": 57,
      "outputs": [
        {
          "output_type": "execute_result",
          "data": {
            "text/plain": [
              "torch.Size([8, 1])"
            ]
          },
          "metadata": {},
          "execution_count": 57
        }
      ]
    },
    {
      "cell_type": "code",
      "source": [
        "# how delete the dim1 whaich equal 1\n",
        "\n",
        "v_tensor_transpose__squaze = torch.squeeze(v_tensor_transpose_t)"
      ],
      "metadata": {
        "id": "WassPWqd8vAe"
      },
      "execution_count": 58,
      "outputs": []
    },
    {
      "cell_type": "code",
      "source": [
        "v_tensor_transpose__squaze.shape"
      ],
      "metadata": {
        "colab": {
          "base_uri": "https://localhost:8080/"
        },
        "id": "DtfPy0yl-UKH",
        "outputId": "42c55c00-15df-4543-e610-e3580aee147e"
      },
      "execution_count": 59,
      "outputs": [
        {
          "output_type": "execute_result",
          "data": {
            "text/plain": [
              "torch.Size([8])"
            ]
          },
          "metadata": {},
          "execution_count": 59
        }
      ]
    },
    {
      "cell_type": "markdown",
      "source": [
        "# please looke the diff"
      ],
      "metadata": {
        "id": "p3B3XcxP-X1K"
      }
    },
    {
      "cell_type": "code",
      "source": [
        "v_tensor_transpose__unsquaze = torch.unsqueeze(v_tensor_transpose__squaze,dim=1)"
      ],
      "metadata": {
        "id": "B75-EHke-Wg0"
      },
      "execution_count": 60,
      "outputs": []
    },
    {
      "cell_type": "code",
      "source": [
        "v_tensor_transpose__unsquaze.shape"
      ],
      "metadata": {
        "colab": {
          "base_uri": "https://localhost:8080/"
        },
        "id": "uFSetQbt-zLk",
        "outputId": "8f3e15f1-5a58-4235-d820-76fcf68aa94c"
      },
      "execution_count": 61,
      "outputs": [
        {
          "output_type": "execute_result",
          "data": {
            "text/plain": [
              "torch.Size([8, 1])"
            ]
          },
          "metadata": {},
          "execution_count": 61
        }
      ]
    },
    {
      "cell_type": "markdown",
      "source": [
        "# refactor_or reconstruct"
      ],
      "metadata": {
        "id": "MwWcR6hc_bXk"
      }
    },
    {
      "cell_type": "code",
      "source": [
        "i = torch.rand(224,228,3)\n",
        "i.shape"
      ],
      "metadata": {
        "colab": {
          "base_uri": "https://localhost:8080/"
        },
        "id": "n1QtM-w3_K9-",
        "outputId": "d6ff3216-0921-4ef9-e757-c8b208545c0a"
      },
      "execution_count": 62,
      "outputs": [
        {
          "output_type": "execute_result",
          "data": {
            "text/plain": [
              "torch.Size([224, 228, 3])"
            ]
          },
          "metadata": {},
          "execution_count": 62
        }
      ]
    },
    {
      "cell_type": "code",
      "source": [
        "i_permute = torch.permute(i,dims=(2,0,1))  # (3,224,228)\n",
        "i_permute.shape"
      ],
      "metadata": {
        "colab": {
          "base_uri": "https://localhost:8080/"
        },
        "id": "vXWzCuUU-4Iw",
        "outputId": "9f7aac9c-77e4-45b9-8ad8-c96c1df4a0a5"
      },
      "execution_count": 63,
      "outputs": [
        {
          "output_type": "execute_result",
          "data": {
            "text/plain": [
              "torch.Size([3, 224, 228])"
            ]
          },
          "metadata": {},
          "execution_count": 63
        }
      ]
    },
    {
      "cell_type": "markdown",
      "source": [
        "# convert from numpy to tensor"
      ],
      "metadata": {
        "id": "pPBwj5lYAON4"
      }
    },
    {
      "cell_type": "code",
      "source": [
        "import numpy as np"
      ],
      "metadata": {
        "id": "8fGGD6OSAXkE"
      },
      "execution_count": 64,
      "outputs": []
    },
    {
      "cell_type": "code",
      "source": [
        "g = np.random.rand(3,4)"
      ],
      "metadata": {
        "id": "ajgAtmiC__rf"
      },
      "execution_count": 65,
      "outputs": []
    },
    {
      "cell_type": "code",
      "source": [
        "type(g)"
      ],
      "metadata": {
        "colab": {
          "base_uri": "https://localhost:8080/"
        },
        "id": "YkbYarC9Afoq",
        "outputId": "9fb40e46-f9cf-4d55-e50e-9d330831e040"
      },
      "execution_count": 66,
      "outputs": [
        {
          "output_type": "execute_result",
          "data": {
            "text/plain": [
              "numpy.ndarray"
            ]
          },
          "metadata": {},
          "execution_count": 66
        }
      ]
    },
    {
      "cell_type": "code",
      "source": [
        "g.dtype"
      ],
      "metadata": {
        "colab": {
          "base_uri": "https://localhost:8080/"
        },
        "id": "cJMg7QmKAZhR",
        "outputId": "2d55e955-e10c-44c1-d5d5-0a310891d5dd"
      },
      "execution_count": 67,
      "outputs": [
        {
          "output_type": "execute_result",
          "data": {
            "text/plain": [
              "dtype('float64')"
            ]
          },
          "metadata": {},
          "execution_count": 67
        }
      ]
    },
    {
      "cell_type": "code",
      "source": [
        "converter = torch.from_numpy(g)"
      ],
      "metadata": {
        "id": "0Ezabhf5AcDC"
      },
      "execution_count": 68,
      "outputs": []
    },
    {
      "cell_type": "code",
      "source": [
        "type(converter)"
      ],
      "metadata": {
        "colab": {
          "base_uri": "https://localhost:8080/"
        },
        "id": "dqS4UNyhAowL",
        "outputId": "eef267b6-065f-4853-db34-2b693776d17f"
      },
      "execution_count": 69,
      "outputs": [
        {
          "output_type": "execute_result",
          "data": {
            "text/plain": [
              "torch.Tensor"
            ]
          },
          "metadata": {},
          "execution_count": 69
        }
      ]
    },
    {
      "cell_type": "code",
      "source": [
        "!nvidia-smi"
      ],
      "metadata": {
        "colab": {
          "base_uri": "https://localhost:8080/"
        },
        "id": "FwVYZBg8AsOD",
        "outputId": "9bdd81c6-3a63-4d9b-fbae-1eb55b79902c"
      },
      "execution_count": 70,
      "outputs": [
        {
          "output_type": "stream",
          "name": "stdout",
          "text": [
            "Sat Feb  1 01:53:50 2025       \n",
            "+-----------------------------------------------------------------------------------------+\n",
            "| NVIDIA-SMI 550.54.15              Driver Version: 550.54.15      CUDA Version: 12.4     |\n",
            "|-----------------------------------------+------------------------+----------------------+\n",
            "| GPU  Name                 Persistence-M | Bus-Id          Disp.A | Volatile Uncorr. ECC |\n",
            "| Fan  Temp   Perf          Pwr:Usage/Cap |           Memory-Usage | GPU-Util  Compute M. |\n",
            "|                                         |                        |               MIG M. |\n",
            "|=========================================+========================+======================|\n",
            "|   0  Tesla T4                       Off |   00000000:00:04.0 Off |                    0 |\n",
            "| N/A   37C    P8             12W /   70W |       2MiB /  15360MiB |      0%      Default |\n",
            "|                                         |                        |                  N/A |\n",
            "+-----------------------------------------+------------------------+----------------------+\n",
            "                                                                                         \n",
            "+-----------------------------------------------------------------------------------------+\n",
            "| Processes:                                                                              |\n",
            "|  GPU   GI   CI        PID   Type   Process name                              GPU Memory |\n",
            "|        ID   ID                                                               Usage      |\n",
            "|=========================================================================================|\n",
            "|  No running processes found                                                             |\n",
            "+-----------------------------------------------------------------------------------------+\n"
          ]
        }
      ]
    },
    {
      "cell_type": "code",
      "source": [
        "torch.cuda.device_count()"
      ],
      "metadata": {
        "colab": {
          "base_uri": "https://localhost:8080/"
        },
        "id": "tNSwd6HKA160",
        "outputId": "a9eb1592-a60d-4bf1-f5fb-ab5f6c703c10"
      },
      "execution_count": 71,
      "outputs": [
        {
          "output_type": "execute_result",
          "data": {
            "text/plain": [
              "1"
            ]
          },
          "metadata": {},
          "execution_count": 71
        }
      ]
    },
    {
      "cell_type": "markdown",
      "source": [
        "## to_device GPU(cuda) ,CPU"
      ],
      "metadata": {
        "id": "KSBlTtzLBtKq"
      }
    },
    {
      "cell_type": "code",
      "source": [
        "tensor_d = torch.rand(4,5)"
      ],
      "metadata": {
        "id": "4hjziUA0BLZS"
      },
      "execution_count": 72,
      "outputs": []
    },
    {
      "cell_type": "code",
      "source": [
        "tensor_d.device"
      ],
      "metadata": {
        "colab": {
          "base_uri": "https://localhost:8080/"
        },
        "id": "pUqZtqqIB6eX",
        "outputId": "d6369b08-badd-4d98-b216-cdab32cc7618"
      },
      "execution_count": 73,
      "outputs": [
        {
          "output_type": "execute_result",
          "data": {
            "text/plain": [
              "device(type='cpu')"
            ]
          },
          "metadata": {},
          "execution_count": 73
        }
      ]
    },
    {
      "cell_type": "code",
      "source": [
        "if torch.cuda.is_available():\n",
        "    tensor_d_cuda = tensor_d.to(\"cuda\")"
      ],
      "metadata": {
        "id": "0fXzoWpBB8P9"
      },
      "execution_count": 74,
      "outputs": []
    },
    {
      "cell_type": "code",
      "source": [
        "tensor_d=tensor_d.to(\"cuda\")"
      ],
      "metadata": {
        "id": "ndxEd1yRCBeV"
      },
      "execution_count": 75,
      "outputs": []
    },
    {
      "cell_type": "code",
      "source": [
        "tensor_d.device"
      ],
      "metadata": {
        "colab": {
          "base_uri": "https://localhost:8080/"
        },
        "id": "jcnMFvhPCOMx",
        "outputId": "e6f61f6d-ebfd-4da2-f6f2-94056a61c095"
      },
      "execution_count": 76,
      "outputs": [
        {
          "output_type": "execute_result",
          "data": {
            "text/plain": [
              "device(type='cuda', index=0)"
            ]
          },
          "metadata": {},
          "execution_count": 76
        }
      ]
    },
    {
      "cell_type": "code",
      "source": [
        "tensor_d=tensor_d.to(\"cpu\")"
      ],
      "metadata": {
        "id": "5wWIGNB5CRi4"
      },
      "execution_count": 77,
      "outputs": []
    },
    {
      "cell_type": "code",
      "source": [
        "tensor_d.device"
      ],
      "metadata": {
        "colab": {
          "base_uri": "https://localhost:8080/"
        },
        "id": "75mwPY_3CrE9",
        "outputId": "4929c986-9dee-47ad-ec60-79505e11d288"
      },
      "execution_count": 78,
      "outputs": [
        {
          "output_type": "execute_result",
          "data": {
            "text/plain": [
              "device(type='cpu')"
            ]
          },
          "metadata": {},
          "execution_count": 78
        }
      ]
    },
    {
      "cell_type": "code",
      "source": [
        "type(tensor_d)"
      ],
      "metadata": {
        "colab": {
          "base_uri": "https://localhost:8080/"
        },
        "id": "IR2S4JW6Ctzk",
        "outputId": "0e74b9be-837d-4719-8174-c6a16b45c97b"
      },
      "execution_count": 79,
      "outputs": [
        {
          "output_type": "execute_result",
          "data": {
            "text/plain": [
              "torch.Tensor"
            ]
          },
          "metadata": {},
          "execution_count": 79
        }
      ]
    },
    {
      "cell_type": "code",
      "source": [
        "tensor_d=tensor_d.numpy()"
      ],
      "metadata": {
        "id": "H7UV_xH5CyRA"
      },
      "execution_count": 80,
      "outputs": []
    },
    {
      "cell_type": "code",
      "source": [
        "type(tensor_d)"
      ],
      "metadata": {
        "colab": {
          "base_uri": "https://localhost:8080/"
        },
        "id": "HLIJV7VMC7Iw",
        "outputId": "7dae4030-794e-4e19-e0a5-8d853ba69b4c"
      },
      "execution_count": 81,
      "outputs": [
        {
          "output_type": "execute_result",
          "data": {
            "text/plain": [
              "numpy.ndarray"
            ]
          },
          "metadata": {},
          "execution_count": 81
        }
      ]
    },
    {
      "cell_type": "code",
      "source": [],
      "metadata": {
        "id": "5zPOYsZbDAB0"
      },
      "execution_count": 81,
      "outputs": []
    }
  ]
}